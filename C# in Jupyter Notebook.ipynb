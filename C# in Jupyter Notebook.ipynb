{
 "cells": [
  {
   "cell_type": "markdown",
   "id": "35948af6",
   "metadata": {},
   "source": [
    "# 在 Jupyter Notebook 中使用 C#"
   ]
  },
  {
   "cell_type": "markdown",
   "id": "e02b2dbc",
   "metadata": {},
   "source": [
    "## print 測試"
   ]
  },
  {
   "cell_type": "code",
   "execution_count": 1,
   "id": "08d7d602",
   "metadata": {},
   "outputs": [
    {
     "data": {
      "text/html": [
       "\r\n",
       "<div>\r\n",
       "    <div id='dotnet-interactive-this-cell-25476.Microsoft.DotNet.Interactive.Http.HttpPort' style='display: none'>\r\n",
       "        The below script needs to be able to find the current output cell; this is an easy method to get it.\r\n",
       "    </div>\r\n",
       "    <script type='text/javascript'>\r\n",
       "async function probeAddresses(probingAddresses) {\r\n",
       "    function timeout(ms, promise) {\r\n",
       "        return new Promise(function (resolve, reject) {\r\n",
       "            setTimeout(function () {\r\n",
       "                reject(new Error('timeout'))\r\n",
       "            }, ms)\r\n",
       "            promise.then(resolve, reject)\r\n",
       "        })\r\n",
       "    }\r\n",
       "\r\n",
       "    if (Array.isArray(probingAddresses)) {\r\n",
       "        for (let i = 0; i < probingAddresses.length; i++) {\r\n",
       "\r\n",
       "            let rootUrl = probingAddresses[i];\r\n",
       "\r\n",
       "            if (!rootUrl.endsWith('/')) {\r\n",
       "                rootUrl = `${rootUrl}/`;\r\n",
       "            }\r\n",
       "\r\n",
       "            try {\r\n",
       "                let response = await timeout(1000, fetch(`${rootUrl}discovery`, {\r\n",
       "                    method: 'POST',\r\n",
       "                    cache: 'no-cache',\r\n",
       "                    mode: 'cors',\r\n",
       "                    timeout: 1000,\r\n",
       "                    headers: {\r\n",
       "                        'Content-Type': 'text/plain'\r\n",
       "                    },\r\n",
       "                    body: probingAddresses[i]\r\n",
       "                }));\r\n",
       "\r\n",
       "                if (response.status == 200) {\r\n",
       "                    return rootUrl;\r\n",
       "                }\r\n",
       "            }\r\n",
       "            catch (e) { }\r\n",
       "        }\r\n",
       "    }\r\n",
       "}\r\n",
       "\r\n",
       "function loadDotnetInteractiveApi() {\r\n",
       "    probeAddresses([\"http://192.168.1.105:1002/\", \"http://127.0.0.1:1002/\"])\r\n",
       "        .then((root) => {\r\n",
       "        // use probing to find host url and api resources\r\n",
       "        // load interactive helpers and language services\r\n",
       "        let dotnetInteractiveRequire = require.config({\r\n",
       "        context: '25476.Microsoft.DotNet.Interactive.Http.HttpPort',\r\n",
       "                paths:\r\n",
       "            {\r\n",
       "                'dotnet-interactive': `${root}resources`\r\n",
       "                }\r\n",
       "        }) || require;\r\n",
       "\r\n",
       "            window.dotnetInteractiveRequire = dotnetInteractiveRequire;\r\n",
       "\r\n",
       "            window.configureRequireFromExtension = function(extensionName, extensionCacheBuster) {\r\n",
       "                let paths = {};\r\n",
       "                paths[extensionName] = `${root}extensions/${extensionName}/resources/`;\r\n",
       "                \r\n",
       "                let internalRequire = require.config({\r\n",
       "                    context: extensionCacheBuster,\r\n",
       "                    paths: paths,\r\n",
       "                    urlArgs: `cacheBuster=${extensionCacheBuster}`\r\n",
       "                    }) || require;\r\n",
       "\r\n",
       "                return internalRequire\r\n",
       "            };\r\n",
       "        \r\n",
       "            dotnetInteractiveRequire([\r\n",
       "                    'dotnet-interactive/dotnet-interactive'\r\n",
       "                ],\r\n",
       "                function (dotnet) {\r\n",
       "                    dotnet.init(window);\r\n",
       "                },\r\n",
       "                function (error) {\r\n",
       "                    console.log(error);\r\n",
       "                }\r\n",
       "            );\r\n",
       "        })\r\n",
       "        .catch(error => {console.log(error);});\r\n",
       "    }\r\n",
       "\r\n",
       "// ensure `require` is available globally\r\n",
       "if ((typeof(require) !==  typeof(Function)) || (typeof(require.config) !== typeof(Function))) {\r\n",
       "    let require_script = document.createElement('script');\r\n",
       "    require_script.setAttribute('src', 'https://cdnjs.cloudflare.com/ajax/libs/require.js/2.3.6/require.min.js');\r\n",
       "    require_script.setAttribute('type', 'text/javascript');\r\n",
       "    \r\n",
       "    \r\n",
       "    require_script.onload = function() {\r\n",
       "        loadDotnetInteractiveApi();\r\n",
       "    };\r\n",
       "\r\n",
       "    document.getElementsByTagName('head')[0].appendChild(require_script);\r\n",
       "}\r\n",
       "else {\r\n",
       "    loadDotnetInteractiveApi();\r\n",
       "}\r\n",
       "\r\n",
       "    </script>\r\n",
       "</div>"
      ]
     },
     "metadata": {},
     "output_type": "display_data"
    },
    {
     "name": "stdout",
     "output_type": "stream",
     "text": [
      "hello world !!\r\n"
     ]
    }
   ],
   "source": [
    "Console.WriteLine(\"hello world !!\");"
   ]
  },
  {
   "cell_type": "markdown",
   "id": "779f3ea5",
   "metadata": {},
   "source": [
    "## 安裝套件"
   ]
  },
  {
   "cell_type": "code",
   "execution_count": 11,
   "id": "82732337",
   "metadata": {},
   "outputs": [],
   "source": [
    "// EikonDataAPI 可支援 nuget 套件安裝\n",
    "#r \"nuget:EikonDataAPI\"\n",
    "#r \"nuget:Microsoft.Data.Analysis,0.4.0\""
   ]
  },
  {
   "cell_type": "markdown",
   "id": "182a53b1",
   "metadata": {},
   "source": [
    "## 載入套件"
   ]
  },
  {
   "cell_type": "code",
   "execution_count": 5,
   "id": "b21ff598",
   "metadata": {},
   "outputs": [],
   "source": [
    "using XPlot.Plotly;\n",
    "using Microsoft.Data.Analysis;\n",
    "using System.Linq;\n",
    "using Microsoft.AspNetCore.Html;"
   ]
  },
  {
   "cell_type": "markdown",
   "id": "ea2afc06",
   "metadata": {},
   "source": [
    "## DataFrame"
   ]
  },
  {
   "cell_type": "code",
   "execution_count": 12,
   "id": "76dff23e",
   "metadata": {},
   "outputs": [],
   "source": [
    "// 格式化 DataFrame\n",
    "Formatter.Register<DataFrame>((df, writer) =>\n",
    "{\n",
    "    var headers = new List<IHtmlContent>();\n",
    "    headers.Add(th(i(\"index\")));\n",
    "    headers.AddRange(df.Columns.Select(c => (IHtmlContent) th(c.Name)));\n",
    "    var rows = new List<List<IHtmlContent>>();\n",
    "    var take = 100; // 最多只顯示100列，可調整\n",
    "    for (var i = 0; i < Math.Min(take, df.Rows.Count); i++)\n",
    "    {\n",
    "        var cells = new List<IHtmlContent>();\n",
    "        cells.Add(td(i));\n",
    "        foreach (var obj in df.Rows[i])\n",
    "        {\n",
    "            cells.Add(td(obj));\n",
    "        }\n",
    "        rows.Add(cells);\n",
    "    }\n",
    "\n",
    "    var t = table(\n",
    "        thead(\n",
    "            headers),\n",
    "        tbody(\n",
    "            rows.Select(\n",
    "                r => tr(r))));\n",
    "\n",
    "    writer.Write(t);    \n",
    "    writer.Write(df.Rows.Count + \" x \"+df.Columns.Count);\n",
    "}, \"text/html\");\n",
    "\n",
    "// 格式化 DataFrame 的列\n",
    "Formatter.Register<DataFrameRow>((dataFrameRow, writer) =>\n",
    "{\n",
    "    var cells = new List<IHtmlContent>();\n",
    "    cells.Add(td(i));\n",
    "    foreach (var obj in dataFrameRow)\n",
    "    {\n",
    "        cells.Add(td(obj));\n",
    "    }\n",
    "\n",
    "    var t = table(\n",
    "        tbody(\n",
    "            cells));\n",
    "\n",
    "    writer.Write(t);\n",
    "}, \"text/html\");"
   ]
  },
  {
   "cell_type": "code",
   "execution_count": 13,
   "id": "420ddfc1",
   "metadata": {},
   "outputs": [
    {
     "data": {
      "text/html": [
       "<table><thead><th><i>index</i></th><th>Date</th><th>Open</th><th>High</th><th>Low</th><th>Close</th><th>Volume</th><th>Adj Close</th></thead><tbody><tr><td><div class=\"dni-plaintext\">0</div></td><td>2009-03-31</td><td><div class=\"dni-plaintext\">17.83</div></td><td><div class=\"dni-plaintext\">18.79</div></td><td><div class=\"dni-plaintext\">17.78</div></td><td><div class=\"dni-plaintext\">18.37</div></td><td><div class=\"dni-plaintext\">92095504</div></td><td><div class=\"dni-plaintext\">17.81</div></td></tr><tr><td><div class=\"dni-plaintext\">1</div></td><td>2009-03-30</td><td><div class=\"dni-plaintext\">17.74</div></td><td><div class=\"dni-plaintext\">17.76</div></td><td><div class=\"dni-plaintext\">17.27</div></td><td><div class=\"dni-plaintext\">17.48</div></td><td><div class=\"dni-plaintext\">49633000</div></td><td><div class=\"dni-plaintext\">16.95</div></td></tr><tr><td><div class=\"dni-plaintext\">2</div></td><td>2009-03-27</td><td><div class=\"dni-plaintext\">18.54</div></td><td><div class=\"dni-plaintext\">18.62</div></td><td><div class=\"dni-plaintext\">18.05</div></td><td><div class=\"dni-plaintext\">18.13</div></td><td><div class=\"dni-plaintext\">47670400</div></td><td><div class=\"dni-plaintext\">17.58</div></td></tr><tr><td><div class=\"dni-plaintext\">3</div></td><td>2009-03-26</td><td><div class=\"dni-plaintext\">18.17</div></td><td><div class=\"dni-plaintext\">18.88</div></td><td><div class=\"dni-plaintext\">18.12</div></td><td><div class=\"dni-plaintext\">18.83</div></td><td><div class=\"dni-plaintext\">63775100</div></td><td><div class=\"dni-plaintext\">18.26</div></td></tr><tr><td><div class=\"dni-plaintext\">4</div></td><td>2009-03-25</td><td><div class=\"dni-plaintext\">17.98</div></td><td><div class=\"dni-plaintext\">18.31</div></td><td><div class=\"dni-plaintext\">17.52</div></td><td><div class=\"dni-plaintext\">17.88</div></td><td><div class=\"dni-plaintext\">73927104</div></td><td><div class=\"dni-plaintext\">17.34</div></td></tr><tr><td><div class=\"dni-plaintext\">5</div></td><td>2009-03-24</td><td><div class=\"dni-plaintext\">18.04</div></td><td><div class=\"dni-plaintext\">18.21</div></td><td><div class=\"dni-plaintext\">17.84</div></td><td><div class=\"dni-plaintext\">17.93</div></td><td><div class=\"dni-plaintext\">50044100</div></td><td><div class=\"dni-plaintext\">17.39</div></td></tr><tr><td><div class=\"dni-plaintext\">6</div></td><td>2009-03-23</td><td><div class=\"dni-plaintext\">17.37</div></td><td><div class=\"dni-plaintext\">18.59</div></td><td><div class=\"dni-plaintext\">17.31</div></td><td><div class=\"dni-plaintext\">18.33</div></td><td><div class=\"dni-plaintext\">71600000</div></td><td><div class=\"dni-plaintext\">17.77</div></td></tr><tr><td><div class=\"dni-plaintext\">7</div></td><td>2009-03-20</td><td><div class=\"dni-plaintext\">17.32</div></td><td><div class=\"dni-plaintext\">17.65</div></td><td><div class=\"dni-plaintext\">16.88</div></td><td><div class=\"dni-plaintext\">17.06</div></td><td><div class=\"dni-plaintext\">81725504</div></td><td><div class=\"dni-plaintext\">16.54</div></td></tr><tr><td><div class=\"dni-plaintext\">8</div></td><td>2009-03-19</td><td><div class=\"dni-plaintext\">17.37</div></td><td><div class=\"dni-plaintext\">17.45</div></td><td><div class=\"dni-plaintext\">16.92</div></td><td><div class=\"dni-plaintext\">17.14</div></td><td><div class=\"dni-plaintext\">58994600</div></td><td><div class=\"dni-plaintext\">16.62</div></td></tr><tr><td><div class=\"dni-plaintext\">9</div></td><td>2009-03-18</td><td><div class=\"dni-plaintext\">17.03</div></td><td><div class=\"dni-plaintext\">17.22</div></td><td><div class=\"dni-plaintext\">16.6</div></td><td><div class=\"dni-plaintext\">16.96</div></td><td><div class=\"dni-plaintext\">70710704</div></td><td><div class=\"dni-plaintext\">16.45</div></td></tr><tr><td><div class=\"dni-plaintext\">10</div></td><td>2009-03-17</td><td><div class=\"dni-plaintext\">16.32</div></td><td><div class=\"dni-plaintext\">16.9</div></td><td><div class=\"dni-plaintext\">16.26</div></td><td><div class=\"dni-plaintext\">16.9</div></td><td><div class=\"dni-plaintext\">62481000</div></td><td><div class=\"dni-plaintext\">16.39</div></td></tr><tr><td><div class=\"dni-plaintext\">11</div></td><td>2009-03-16</td><td><div class=\"dni-plaintext\">16.82</div></td><td><div class=\"dni-plaintext\">16.96</div></td><td><div class=\"dni-plaintext\">16.24</div></td><td><div class=\"dni-plaintext\">16.25</div></td><td><div class=\"dni-plaintext\">67028900</div></td><td><div class=\"dni-plaintext\">15.76</div></td></tr><tr><td><div class=\"dni-plaintext\">12</div></td><td>2009-03-13</td><td><div class=\"dni-plaintext\">16.98</div></td><td><div class=\"dni-plaintext\">17.05</div></td><td><div class=\"dni-plaintext\">16.18</div></td><td><div class=\"dni-plaintext\">16.65</div></td><td><div class=\"dni-plaintext\">82965800</div></td><td><div class=\"dni-plaintext\">16.14</div></td></tr><tr><td><div class=\"dni-plaintext\">13</div></td><td>2009-03-12</td><td><div class=\"dni-plaintext\">17.01</div></td><td><div class=\"dni-plaintext\">17.04</div></td><td><div class=\"dni-plaintext\">16.48</div></td><td><div class=\"dni-plaintext\">17.01</div></td><td><div class=\"dni-plaintext\">93694096</div></td><td><div class=\"dni-plaintext\">16.49</div></td></tr><tr><td><div class=\"dni-plaintext\">14</div></td><td>2009-03-11</td><td><div class=\"dni-plaintext\">16.63</div></td><td><div class=\"dni-plaintext\">17.2</div></td><td><div class=\"dni-plaintext\">16.43</div></td><td><div class=\"dni-plaintext\">17.11</div></td><td><div class=\"dni-plaintext\">84522200</div></td><td><div class=\"dni-plaintext\">16.59</div></td></tr><tr><td><div class=\"dni-plaintext\">15</div></td><td>2009-03-10</td><td><div class=\"dni-plaintext\">15.37</div></td><td><div class=\"dni-plaintext\">16.62</div></td><td><div class=\"dni-plaintext\">15.25</div></td><td><div class=\"dni-plaintext\">16.48</div></td><td><div class=\"dni-plaintext\">95184200</div></td><td><div class=\"dni-plaintext\">15.98</div></td></tr><tr><td><div class=\"dni-plaintext\">16</div></td><td>2009-03-09</td><td><div class=\"dni-plaintext\">15.2</div></td><td><div class=\"dni-plaintext\">15.74</div></td><td><div class=\"dni-plaintext\">15.1</div></td><td><div class=\"dni-plaintext\">15.15</div></td><td><div class=\"dni-plaintext\">66479100</div></td><td><div class=\"dni-plaintext\">14.69</div></td></tr><tr><td><div class=\"dni-plaintext\">17</div></td><td>2009-03-06</td><td><div class=\"dni-plaintext\">15.35</div></td><td><div class=\"dni-plaintext\">15.62</div></td><td><div class=\"dni-plaintext\">14.87</div></td><td><div class=\"dni-plaintext\">15.28</div></td><td><div class=\"dni-plaintext\">92821400</div></td><td><div class=\"dni-plaintext\">14.82</div></td></tr><tr><td><div class=\"dni-plaintext\">18</div></td><td>2009-03-05</td><td><div class=\"dni-plaintext\">15.86</div></td><td><div class=\"dni-plaintext\">15.88</div></td><td><div class=\"dni-plaintext\">15.27</div></td><td><div class=\"dni-plaintext\">15.27</div></td><td><div class=\"dni-plaintext\">89708496</div></td><td><div class=\"dni-plaintext\">14.81</div></td></tr><tr><td><div class=\"dni-plaintext\">19</div></td><td>2009-03-04</td><td><div class=\"dni-plaintext\">16.12</div></td><td><div class=\"dni-plaintext\">16.4</div></td><td><div class=\"dni-plaintext\">15.89</div></td><td><div class=\"dni-plaintext\">16.12</div></td><td><div class=\"dni-plaintext\">69285104</div></td><td><div class=\"dni-plaintext\">15.63</div></td></tr><tr><td><div class=\"dni-plaintext\">20</div></td><td>2009-03-03</td><td><div class=\"dni-plaintext\">16.03</div></td><td><div class=\"dni-plaintext\">16.24</div></td><td><div class=\"dni-plaintext\">15.64</div></td><td><div class=\"dni-plaintext\">15.88</div></td><td><div class=\"dni-plaintext\">80476600</div></td><td><div class=\"dni-plaintext\">15.4</div></td></tr><tr><td><div class=\"dni-plaintext\">21</div></td><td>2009-03-02</td><td><div class=\"dni-plaintext\">15.96</div></td><td><div class=\"dni-plaintext\">16.25</div></td><td><div class=\"dni-plaintext\">15.72</div></td><td><div class=\"dni-plaintext\">15.79</div></td><td><div class=\"dni-plaintext\">80602096</div></td><td><div class=\"dni-plaintext\">15.31</div></td></tr><tr><td><div class=\"dni-plaintext\">22</div></td><td>2009-02-27</td><td><div class=\"dni-plaintext\">16.29</div></td><td><div class=\"dni-plaintext\">16.52</div></td><td><div class=\"dni-plaintext\">16.1</div></td><td><div class=\"dni-plaintext\">16.15</div></td><td><div class=\"dni-plaintext\">93428000</div></td><td><div class=\"dni-plaintext\">15.66</div></td></tr><tr><td><div class=\"dni-plaintext\">23</div></td><td>2009-02-26</td><td><div class=\"dni-plaintext\">17.05</div></td><td><div class=\"dni-plaintext\">17.08</div></td><td><div class=\"dni-plaintext\">16.42</div></td><td><div class=\"dni-plaintext\">16.42</div></td><td><div class=\"dni-plaintext\">83219504</div></td><td><div class=\"dni-plaintext\">15.92</div></td></tr><tr><td><div class=\"dni-plaintext\">24</div></td><td>2009-02-25</td><td><div class=\"dni-plaintext\">17.01</div></td><td><div class=\"dni-plaintext\">17.24</div></td><td><div class=\"dni-plaintext\">16.46</div></td><td><div class=\"dni-plaintext\">16.96</div></td><td><div class=\"dni-plaintext\">105894600</div></td><td><div class=\"dni-plaintext\">16.45</div></td></tr><tr><td><div class=\"dni-plaintext\">25</div></td><td>2009-02-24</td><td><div class=\"dni-plaintext\">17.03</div></td><td><div class=\"dni-plaintext\">17.35</div></td><td><div class=\"dni-plaintext\">16.36</div></td><td><div class=\"dni-plaintext\">17.17</div></td><td><div class=\"dni-plaintext\">122674496</div></td><td><div class=\"dni-plaintext\">16.65</div></td></tr><tr><td><div class=\"dni-plaintext\">26</div></td><td>2009-02-23</td><td><div class=\"dni-plaintext\">18.02</div></td><td><div class=\"dni-plaintext\">18.15</div></td><td><div class=\"dni-plaintext\">17.16</div></td><td><div class=\"dni-plaintext\">17.21</div></td><td><div class=\"dni-plaintext\">70803400</div></td><td><div class=\"dni-plaintext\">16.69</div></td></tr><tr><td><div class=\"dni-plaintext\">27</div></td><td>2009-02-20</td><td><div class=\"dni-plaintext\">17.77</div></td><td><div class=\"dni-plaintext\">18.19</div></td><td><div class=\"dni-plaintext\">17.66</div></td><td><div class=\"dni-plaintext\">18</div></td><td><div class=\"dni-plaintext\">69413800</div></td><td><div class=\"dni-plaintext\">17.45</div></td></tr><tr><td><div class=\"dni-plaintext\">28</div></td><td>2009-02-19</td><td><div class=\"dni-plaintext\">18.3</div></td><td><div class=\"dni-plaintext\">18.38</div></td><td><div class=\"dni-plaintext\">17.81</div></td><td><div class=\"dni-plaintext\">17.91</div></td><td><div class=\"dni-plaintext\">49195600</div></td><td><div class=\"dni-plaintext\">17.37</div></td></tr><tr><td><div class=\"dni-plaintext\">29</div></td><td>2009-02-18</td><td><div class=\"dni-plaintext\">18.22</div></td><td><div class=\"dni-plaintext\">18.45</div></td><td><div class=\"dni-plaintext\">18</div></td><td><div class=\"dni-plaintext\">18.12</div></td><td><div class=\"dni-plaintext\">54946900</div></td><td><div class=\"dni-plaintext\">17.57</div></td></tr><tr><td><div class=\"dni-plaintext\">30</div></td><td>2009-02-17</td><td><div class=\"dni-plaintext\">18.49</div></td><td><div class=\"dni-plaintext\">18.5</div></td><td><div class=\"dni-plaintext\">17.89</div></td><td><div class=\"dni-plaintext\">18.09</div></td><td><div class=\"dni-plaintext\">75853296</div></td><td><div class=\"dni-plaintext\">17.54</div></td></tr><tr><td><div class=\"dni-plaintext\">31</div></td><td>2009-02-13</td><td><div class=\"dni-plaintext\">19.27</div></td><td><div class=\"dni-plaintext\">19.47</div></td><td><div class=\"dni-plaintext\">19.04</div></td><td><div class=\"dni-plaintext\">19.09</div></td><td><div class=\"dni-plaintext\">47416000</div></td><td><div class=\"dni-plaintext\">18.38</div></td></tr><tr><td><div class=\"dni-plaintext\">32</div></td><td>2009-02-12</td><td><div class=\"dni-plaintext\">18.97</div></td><td><div class=\"dni-plaintext\">19.32</div></td><td><div class=\"dni-plaintext\">18.54</div></td><td><div class=\"dni-plaintext\">19.26</div></td><td><div class=\"dni-plaintext\">75323200</div></td><td><div class=\"dni-plaintext\">18.55</div></td></tr><tr><td><div class=\"dni-plaintext\">33</div></td><td>2009-02-11</td><td><div class=\"dni-plaintext\">18.94</div></td><td><div class=\"dni-plaintext\">19.49</div></td><td><div class=\"dni-plaintext\">18.92</div></td><td><div class=\"dni-plaintext\">19.21</div></td><td><div class=\"dni-plaintext\">58599000</div></td><td><div class=\"dni-plaintext\">18.5</div></td></tr><tr><td><div class=\"dni-plaintext\">34</div></td><td>2009-02-10</td><td><div class=\"dni-plaintext\">19.25</div></td><td><div class=\"dni-plaintext\">19.8</div></td><td><div class=\"dni-plaintext\">18.7</div></td><td><div class=\"dni-plaintext\">18.8</div></td><td><div class=\"dni-plaintext\">83953200</div></td><td><div class=\"dni-plaintext\">18.1</div></td></tr><tr><td><div class=\"dni-plaintext\">35</div></td><td>2009-02-09</td><td><div class=\"dni-plaintext\">19.64</div></td><td><div class=\"dni-plaintext\">19.77</div></td><td><div class=\"dni-plaintext\">19.26</div></td><td><div class=\"dni-plaintext\">19.44</div></td><td><div class=\"dni-plaintext\">52196400</div></td><td><div class=\"dni-plaintext\">18.72</div></td></tr><tr><td><div class=\"dni-plaintext\">36</div></td><td>2009-02-06</td><td><div class=\"dni-plaintext\">19.16</div></td><td><div class=\"dni-plaintext\">19.93</div></td><td><div class=\"dni-plaintext\">19.06</div></td><td><div class=\"dni-plaintext\">19.66</div></td><td><div class=\"dni-plaintext\">86746000</div></td><td><div class=\"dni-plaintext\">18.93</div></td></tr><tr><td><div class=\"dni-plaintext\">37</div></td><td>2009-02-05</td><td><div class=\"dni-plaintext\">18.51</div></td><td><div class=\"dni-plaintext\">19.14</div></td><td><div class=\"dni-plaintext\">18.25</div></td><td><div class=\"dni-plaintext\">19.04</div></td><td><div class=\"dni-plaintext\">75195200</div></td><td><div class=\"dni-plaintext\">18.34</div></td></tr><tr><td><div class=\"dni-plaintext\">38</div></td><td>2009-02-04</td><td><div class=\"dni-plaintext\">18.54</div></td><td><div class=\"dni-plaintext\">19</div></td><td><div class=\"dni-plaintext\">18.5</div></td><td><div class=\"dni-plaintext\">18.63</div></td><td><div class=\"dni-plaintext\">75618000</div></td><td><div class=\"dni-plaintext\">17.94</div></td></tr><tr><td><div class=\"dni-plaintext\">39</div></td><td>2009-02-03</td><td><div class=\"dni-plaintext\">17.85</div></td><td><div class=\"dni-plaintext\">18.61</div></td><td><div class=\"dni-plaintext\">17.6</div></td><td><div class=\"dni-plaintext\">18.5</div></td><td><div class=\"dni-plaintext\">86865104</div></td><td><div class=\"dni-plaintext\">17.82</div></td></tr><tr><td><div class=\"dni-plaintext\">40</div></td><td>2009-02-02</td><td><div class=\"dni-plaintext\">17.03</div></td><td><div class=\"dni-plaintext\">18.13</div></td><td><div class=\"dni-plaintext\">17</div></td><td><div class=\"dni-plaintext\">17.83</div></td><td><div class=\"dni-plaintext\">88871696</div></td><td><div class=\"dni-plaintext\">17.17</div></td></tr><tr><td><div class=\"dni-plaintext\">41</div></td><td>2009-01-30</td><td><div class=\"dni-plaintext\">17.74</div></td><td><div class=\"dni-plaintext\">17.79</div></td><td><div class=\"dni-plaintext\">17.1</div></td><td><div class=\"dni-plaintext\">17.1</div></td><td><div class=\"dni-plaintext\">62370900</div></td><td><div class=\"dni-plaintext\">16.47</div></td></tr><tr><td><div class=\"dni-plaintext\">42</div></td><td>2009-01-29</td><td><div class=\"dni-plaintext\">17.78</div></td><td><div class=\"dni-plaintext\">17.96</div></td><td><div class=\"dni-plaintext\">17.56</div></td><td><div class=\"dni-plaintext\">17.59</div></td><td><div class=\"dni-plaintext\">49192800</div></td><td><div class=\"dni-plaintext\">16.94</div></td></tr><tr><td><div class=\"dni-plaintext\">43</div></td><td>2009-01-28</td><td><div class=\"dni-plaintext\">17.8</div></td><td><div class=\"dni-plaintext\">18.31</div></td><td><div class=\"dni-plaintext\">17.76</div></td><td><div class=\"dni-plaintext\">18.04</div></td><td><div class=\"dni-plaintext\">64145500</div></td><td><div class=\"dni-plaintext\">17.37</div></td></tr><tr><td><div class=\"dni-plaintext\">44</div></td><td>2009-01-27</td><td><div class=\"dni-plaintext\">17.78</div></td><td><div class=\"dni-plaintext\">17.97</div></td><td><div class=\"dni-plaintext\">17.43</div></td><td><div class=\"dni-plaintext\">17.66</div></td><td><div class=\"dni-plaintext\">61695000</div></td><td><div class=\"dni-plaintext\">17.01</div></td></tr><tr><td><div class=\"dni-plaintext\">45</div></td><td>2009-01-26</td><td><div class=\"dni-plaintext\">17.29</div></td><td><div class=\"dni-plaintext\">17.81</div></td><td><div class=\"dni-plaintext\">17.23</div></td><td><div class=\"dni-plaintext\">17.63</div></td><td><div class=\"dni-plaintext\">92476496</div></td><td><div class=\"dni-plaintext\">16.98</div></td></tr><tr><td><div class=\"dni-plaintext\">46</div></td><td>2009-01-23</td><td><div class=\"dni-plaintext\">16.97</div></td><td><div class=\"dni-plaintext\">17.49</div></td><td><div class=\"dni-plaintext\">16.75</div></td><td><div class=\"dni-plaintext\">17.2</div></td><td><div class=\"dni-plaintext\">117020600</div></td><td><div class=\"dni-plaintext\">16.56</div></td></tr><tr><td><div class=\"dni-plaintext\">47</div></td><td>2009-01-22</td><td><div class=\"dni-plaintext\">18.05</div></td><td><div class=\"dni-plaintext\">18.18</div></td><td><div class=\"dni-plaintext\">17.07</div></td><td><div class=\"dni-plaintext\">17.11</div></td><td><div class=\"dni-plaintext\">222436610</div></td><td><div class=\"dni-plaintext\">16.48</div></td></tr><tr><td><div class=\"dni-plaintext\">48</div></td><td>2009-01-21</td><td><div class=\"dni-plaintext\">18.87</div></td><td><div class=\"dni-plaintext\">19.45</div></td><td><div class=\"dni-plaintext\">18.46</div></td><td><div class=\"dni-plaintext\">19.38</div></td><td><div class=\"dni-plaintext\">68340896</div></td><td><div class=\"dni-plaintext\">18.66</div></td></tr><tr><td><div class=\"dni-plaintext\">49</div></td><td>2009-01-20</td><td><div class=\"dni-plaintext\">19.46</div></td><td><div class=\"dni-plaintext\">19.62</div></td><td><div class=\"dni-plaintext\">18.37</div></td><td><div class=\"dni-plaintext\">18.48</div></td><td><div class=\"dni-plaintext\">89873000</div></td><td><div class=\"dni-plaintext\">17.8</div></td></tr><tr><td><div class=\"dni-plaintext\">50</div></td><td>2009-01-16</td><td><div class=\"dni-plaintext\">19.63</div></td><td><div class=\"dni-plaintext\">19.91</div></td><td><div class=\"dni-plaintext\">19.15</div></td><td><div class=\"dni-plaintext\">19.71</div></td><td><div class=\"dni-plaintext\">79634096</div></td><td><div class=\"dni-plaintext\">18.98</div></td></tr><tr><td><div class=\"dni-plaintext\">51</div></td><td>2009-01-15</td><td><div class=\"dni-plaintext\">19.07</div></td><td><div class=\"dni-plaintext\">19.3</div></td><td><div class=\"dni-plaintext\">18.52</div></td><td><div class=\"dni-plaintext\">19.24</div></td><td><div class=\"dni-plaintext\">96169800</div></td><td><div class=\"dni-plaintext\">18.53</div></td></tr><tr><td><div class=\"dni-plaintext\">52</div></td><td>2009-01-14</td><td><div class=\"dni-plaintext\">19.53</div></td><td><div class=\"dni-plaintext\">19.68</div></td><td><div class=\"dni-plaintext\">19.01</div></td><td><div class=\"dni-plaintext\">19.09</div></td><td><div class=\"dni-plaintext\">80257504</div></td><td><div class=\"dni-plaintext\">18.38</div></td></tr><tr><td><div class=\"dni-plaintext\">53</div></td><td>2009-01-13</td><td><div class=\"dni-plaintext\">19.52</div></td><td><div class=\"dni-plaintext\">19.99</div></td><td><div class=\"dni-plaintext\">19.52</div></td><td><div class=\"dni-plaintext\">19.82</div></td><td><div class=\"dni-plaintext\">65843500</div></td><td><div class=\"dni-plaintext\">19.09</div></td></tr><tr><td><div class=\"dni-plaintext\">54</div></td><td>2009-01-12</td><td><div class=\"dni-plaintext\">19.71</div></td><td><div class=\"dni-plaintext\">19.79</div></td><td><div class=\"dni-plaintext\">19.3</div></td><td><div class=\"dni-plaintext\">19.47</div></td><td><div class=\"dni-plaintext\">52163500</div></td><td><div class=\"dni-plaintext\">18.75</div></td></tr><tr><td><div class=\"dni-plaintext\">55</div></td><td>2009-01-09</td><td><div class=\"dni-plaintext\">20.17</div></td><td><div class=\"dni-plaintext\">20.3</div></td><td><div class=\"dni-plaintext\">19.41</div></td><td><div class=\"dni-plaintext\">19.52</div></td><td><div class=\"dni-plaintext\">49815300</div></td><td><div class=\"dni-plaintext\">18.8</div></td></tr><tr><td><div class=\"dni-plaintext\">56</div></td><td>2009-01-08</td><td><div class=\"dni-plaintext\">19.63</div></td><td><div class=\"dni-plaintext\">20.19</div></td><td><div class=\"dni-plaintext\">19.55</div></td><td><div class=\"dni-plaintext\">20.12</div></td><td><div class=\"dni-plaintext\">70229904</div></td><td><div class=\"dni-plaintext\">19.38</div></td></tr><tr><td><div class=\"dni-plaintext\">57</div></td><td>2009-01-07</td><td><div class=\"dni-plaintext\">20.19</div></td><td><div class=\"dni-plaintext\">20.29</div></td><td><div class=\"dni-plaintext\">19.48</div></td><td><div class=\"dni-plaintext\">19.51</div></td><td><div class=\"dni-plaintext\">72709904</div></td><td><div class=\"dni-plaintext\">18.79</div></td></tr><tr><td><div class=\"dni-plaintext\">58</div></td><td>2009-01-06</td><td><div class=\"dni-plaintext\">20.75</div></td><td><div class=\"dni-plaintext\">21</div></td><td><div class=\"dni-plaintext\">20.61</div></td><td><div class=\"dni-plaintext\">20.76</div></td><td><div class=\"dni-plaintext\">58083400</div></td><td><div class=\"dni-plaintext\">19.99</div></td></tr><tr><td><div class=\"dni-plaintext\">59</div></td><td>2009-01-05</td><td><div class=\"dni-plaintext\">20.2</div></td><td><div class=\"dni-plaintext\">20.67</div></td><td><div class=\"dni-plaintext\">20.06</div></td><td><div class=\"dni-plaintext\">20.52</div></td><td><div class=\"dni-plaintext\">61475200</div></td><td><div class=\"dni-plaintext\">19.76</div></td></tr><tr><td><div class=\"dni-plaintext\">60</div></td><td>2009-01-02</td><td><div class=\"dni-plaintext\">19.53</div></td><td><div class=\"dni-plaintext\">20.4</div></td><td><div class=\"dni-plaintext\">19.37</div></td><td><div class=\"dni-plaintext\">20.33</div></td><td><div class=\"dni-plaintext\">50084000</div></td><td><div class=\"dni-plaintext\">19.58</div></td></tr></tbody></table>61 x 7"
      ]
     },
     "execution_count": 13,
     "metadata": {},
     "output_type": "execute_result"
    }
   ],
   "source": [
    "var df1 = DataFrame.LoadCsv(\"ohlcdata.csv\");\n",
    "df1"
   ]
  },
  {
   "cell_type": "markdown",
   "id": "de0f784b",
   "metadata": {},
   "source": [
    "## 線圖"
   ]
  },
  {
   "cell_type": "code",
   "execution_count": 16,
   "id": "5b0a64ef",
   "metadata": {},
   "outputs": [
    {
     "data": {
      "text/html": [
       "<div id=\"ee9520cd-a5f3-4117-8a06-089d60798694\" style=\"width: 900px; height: 500px;\"></div>\r\n",
       "<script type=\"text/javascript\">\r\n",
       "\r\n",
       "var renderPlotly = function() {\r\n",
       "    var xplotRequire = require.config({context:'xplot-3.0.1',paths:{plotly:'https://cdn.plot.ly/plotly-1.49.2.min'}}) || require;\r\n",
       "    xplotRequire(['plotly'], function(Plotly) {\r\n",
       "\n",
       "            var data = [{\"type\":\"scatter\",\"x\":[\"2009-03-31\",\"2009-03-30\",\"2009-03-27\",\"2009-03-26\",\"2009-03-25\",\"2009-03-24\",\"2009-03-23\",\"2009-03-20\",\"2009-03-19\",\"2009-03-18\",\"2009-03-17\",\"2009-03-16\",\"2009-03-13\",\"2009-03-12\",\"2009-03-11\",\"2009-03-10\",\"2009-03-09\",\"2009-03-06\",\"2009-03-05\",\"2009-03-04\",\"2009-03-03\",\"2009-03-02\",\"2009-02-27\",\"2009-02-26\",\"2009-02-25\",\"2009-02-24\",\"2009-02-23\",\"2009-02-20\",\"2009-02-19\",\"2009-02-18\",\"2009-02-17\",\"2009-02-13\",\"2009-02-12\",\"2009-02-11\",\"2009-02-10\",\"2009-02-09\",\"2009-02-06\",\"2009-02-05\",\"2009-02-04\",\"2009-02-03\",\"2009-02-02\",\"2009-01-30\",\"2009-01-29\",\"2009-01-28\",\"2009-01-27\",\"2009-01-26\",\"2009-01-23\",\"2009-01-22\",\"2009-01-21\",\"2009-01-20\",\"2009-01-16\",\"2009-01-15\",\"2009-01-14\",\"2009-01-13\",\"2009-01-12\",\"2009-01-09\",\"2009-01-08\",\"2009-01-07\",\"2009-01-06\",\"2009-01-05\",\"2009-01-02\"],\"y\":[18.37,17.48,18.13,18.83,17.88,17.93,18.33,17.06,17.14,16.96,16.9,16.25,16.65,17.01,17.11,16.48,15.15,15.28,15.27,16.12,15.88,15.79,16.15,16.42,16.96,17.17,17.21,18.0,17.91,18.12,18.09,19.09,19.26,19.21,18.8,19.44,19.66,19.04,18.63,18.5,17.83,17.1,17.59,18.04,17.66,17.63,17.2,17.11,19.38,18.48,19.71,19.24,19.09,19.82,19.47,19.52,20.12,19.51,20.76,20.52,20.33],\"mode\":\"lines+markers\"}];\n",
       "            var layout = {\"title\":\"Close Price\",\"xaxis\":{\"title\":\"Date\",\"_isSubplotObj\":true},\"yaxis\":{\"title\":\"Price (USD)\",\"_isSubplotObj\":true}};\n",
       "            Plotly.newPlot('ee9520cd-a5f3-4117-8a06-089d60798694', data, layout);\n",
       "        \r\n",
       "});\r\n",
       "};\r\n",
       "// ensure `require` is available globally\r\n",
       "if ((typeof(require) !==  typeof(Function)) || (typeof(require.config) !== typeof(Function))) {\r\n",
       "    let require_script = document.createElement('script');\r\n",
       "    require_script.setAttribute('src', 'https://cdnjs.cloudflare.com/ajax/libs/require.js/2.3.6/require.min.js');\r\n",
       "    require_script.setAttribute('type', 'text/javascript');\r\n",
       "    \r\n",
       "    \r\n",
       "    require_script.onload = function() {\r\n",
       "        renderPlotly();\r\n",
       "    };\r\n",
       "\r\n",
       "    document.getElementsByTagName('head')[0].appendChild(require_script);\r\n",
       "}\r\n",
       "else {\r\n",
       "    renderPlotly();\r\n",
       "}\r\n",
       "\r\n",
       "</script>\r\n"
      ]
     },
     "execution_count": 16,
     "metadata": {},
     "output_type": "execute_result"
    }
   ],
   "source": [
    "var chart1 = Chart.Plot(\n",
    "    new Graph.Scatter\n",
    "    {\n",
    "        x = df1.Columns[\"Date\"],\n",
    "        y = df1.Columns[\"Close\"],        \n",
    "        mode = \"lines+markers\"\n",
    "    }\n",
    ");\n",
    "var chart1_layout = new Layout.Layout{\n",
    "    title=\"Close Price\",\n",
    "    xaxis =new Graph.Xaxis{\n",
    "        title = \"Date\"\n",
    "        },\n",
    "    yaxis =new Graph.Yaxis{\n",
    "    title = \"Price (USD)\"\n",
    "        }           \n",
    "    };\n",
    "chart1.WithLayout(chart1_layout);\n",
    "chart1"
   ]
  },
  {
   "cell_type": "code",
   "execution_count": 19,
   "id": "10b782ed",
   "metadata": {},
   "outputs": [
    {
     "data": {
      "text/html": [
       "<table><thead><th><i>index</i></th><th>Info</th><th>Date</th><th>Open</th><th>High</th><th>Low</th><th>Close</th><th>Volume</th><th>Adj Close</th></thead><tbody><tr><td><div class=\"dni-plaintext\">0</div></td><td>DataType</td><td>System.String</td><td>System.Single</td><td>System.Single</td><td>System.Single</td><td>System.Single</td><td>System.Single</td><td>System.Single</td></tr><tr><td><div class=\"dni-plaintext\">1</div></td><td>Length (excluding null values)</td><td>61</td><td>61</td><td>61</td><td>61</td><td>61</td><td>61</td><td>61</td></tr></tbody></table>2 x 8"
      ]
     },
     "execution_count": 19,
     "metadata": {},
     "output_type": "execute_result"
    }
   ],
   "source": [
    "df1.Info()"
   ]
  },
  {
   "cell_type": "code",
   "execution_count": 20,
   "id": "49f201d5",
   "metadata": {},
   "outputs": [],
   "source": [
    "// 將 Date 欄位轉成日期資料型態\n",
    "df1.Columns[\"Date\"] = new PrimitiveDataFrameColumn<DateTime>(\"Date\", \n",
    "    df1.Columns[\"Date\"]\n",
    "                .Cast<object>()\n",
    "                .ToList()\n",
    "                .Select(x => DateTime.ParseExact(x.ToString(), \"yyyy-MM-dd\", System.Globalization.CultureInfo.InvariantCulture))\n",
    "                .Cast<DateTime>()); "
   ]
  },
  {
   "cell_type": "code",
   "execution_count": 21,
   "id": "0a9f87b7",
   "metadata": {},
   "outputs": [
    {
     "data": {
      "text/html": [
       "<div id=\"e64d11de-33a8-4924-947c-b6bb7a1811f0\" style=\"width: 900px; height: 500px;\"></div>\r\n",
       "<script type=\"text/javascript\">\r\n",
       "\r\n",
       "var renderPlotly = function() {\r\n",
       "    var xplotRequire = require.config({context:'xplot-3.0.1',paths:{plotly:'https://cdn.plot.ly/plotly-1.49.2.min'}}) || require;\r\n",
       "    xplotRequire(['plotly'], function(Plotly) {\r\n",
       "\n",
       "            var data = [{\"type\":\"candlestick\",\"showlegend\":false,\"x\":[\"2009-01-02\",\"2009-01-05\",\"2009-01-06\",\"2009-01-07\",\"2009-01-08\",\"2009-01-09\",\"2009-01-12\",\"2009-01-13\",\"2009-01-14\",\"2009-01-15\",\"2009-01-16\",\"2009-01-20\",\"2009-01-21\",\"2009-01-22\",\"2009-01-23\",\"2009-01-26\",\"2009-01-27\",\"2009-01-28\",\"2009-01-29\",\"2009-01-30\",\"2009-02-02\",\"2009-02-03\",\"2009-02-04\",\"2009-02-05\",\"2009-02-06\",\"2009-02-09\",\"2009-02-10\",\"2009-02-11\",\"2009-02-12\",\"2009-02-13\",\"2009-02-17\",\"2009-02-18\",\"2009-02-19\",\"2009-02-20\",\"2009-02-23\",\"2009-02-24\",\"2009-02-25\",\"2009-02-26\",\"2009-02-27\",\"2009-03-02\",\"2009-03-03\",\"2009-03-04\",\"2009-03-05\",\"2009-03-06\",\"2009-03-09\",\"2009-03-10\",\"2009-03-11\",\"2009-03-12\",\"2009-03-13\",\"2009-03-16\",\"2009-03-17\",\"2009-03-18\",\"2009-03-19\",\"2009-03-20\",\"2009-03-23\",\"2009-03-24\",\"2009-03-25\",\"2009-03-26\",\"2009-03-27\",\"2009-03-30\",\"2009-03-31\"],\"open\":[19.53,20.2,20.75,20.19,19.63,20.17,19.71,19.52,19.53,19.07,19.63,19.46,18.87,18.05,16.97,17.29,17.78,17.8,17.78,17.74,17.03,17.85,18.54,18.51,19.16,19.64,19.25,18.94,18.97,19.27,18.49,18.22,18.3,17.77,18.02,17.03,17.01,17.05,16.29,15.96,16.03,16.12,15.86,15.35,15.2,15.37,16.63,17.01,16.98,16.82,16.32,17.03,17.37,17.32,17.37,18.04,17.98,18.17,18.54,17.74,17.83],\"high\":[20.4,20.67,21.0,20.29,20.19,20.3,19.79,19.99,19.68,19.3,19.91,19.62,19.45,18.18,17.49,17.81,17.97,18.31,17.96,17.79,18.13,18.61,19.0,19.14,19.93,19.77,19.8,19.49,19.32,19.47,18.5,18.45,18.38,18.19,18.15,17.35,17.24,17.08,16.52,16.25,16.24,16.4,15.88,15.62,15.74,16.62,17.2,17.04,17.05,16.96,16.9,17.22,17.45,17.65,18.59,18.21,18.31,18.88,18.62,17.76,18.79],\"low\":[19.37,20.06,20.61,19.48,19.55,19.41,19.3,19.52,19.01,18.52,19.15,18.37,18.46,17.07,16.75,17.23,17.43,17.76,17.56,17.1,17.0,17.6,18.5,18.25,19.06,19.26,18.7,18.92,18.54,19.04,17.89,18.0,17.81,17.66,17.16,16.36,16.46,16.42,16.1,15.72,15.64,15.89,15.27,14.87,15.1,15.25,16.43,16.48,16.18,16.24,16.26,16.6,16.92,16.88,17.31,17.84,17.52,18.12,18.05,17.27,17.78],\"close\":[20.33,20.52,20.76,19.51,20.12,19.52,19.47,19.82,19.09,19.24,19.71,18.48,19.38,17.11,17.2,17.63,17.66,18.04,17.59,17.1,17.83,18.5,18.63,19.04,19.66,19.44,18.8,19.21,19.26,19.09,18.09,18.12,17.91,18.0,17.21,17.17,16.96,16.42,16.15,15.79,15.88,16.12,15.27,15.28,15.15,16.48,17.11,17.01,16.65,16.25,16.9,16.96,17.14,17.06,18.33,17.93,17.88,18.83,18.13,17.48,18.37]}];\n",
       "            var layout = {\"title\":\"OHLC\",\"xaxis\":{\"title\":\"Date\",\"_isSubplotObj\":true},\"yaxis\":{\"title\":\"Price (USD)\",\"_isSubplotObj\":true}};\n",
       "            Plotly.newPlot('e64d11de-33a8-4924-947c-b6bb7a1811f0', data, layout);\n",
       "        \r\n",
       "});\r\n",
       "};\r\n",
       "// ensure `require` is available globally\r\n",
       "if ((typeof(require) !==  typeof(Function)) || (typeof(require.config) !== typeof(Function))) {\r\n",
       "    let require_script = document.createElement('script');\r\n",
       "    require_script.setAttribute('src', 'https://cdnjs.cloudflare.com/ajax/libs/require.js/2.3.6/require.min.js');\r\n",
       "    require_script.setAttribute('type', 'text/javascript');\r\n",
       "    \r\n",
       "    \r\n",
       "    require_script.onload = function() {\r\n",
       "        renderPlotly();\r\n",
       "    };\r\n",
       "\r\n",
       "    document.getElementsByTagName('head')[0].appendChild(require_script);\r\n",
       "}\r\n",
       "else {\r\n",
       "    renderPlotly();\r\n",
       "}\r\n",
       "\r\n",
       "</script>\r\n"
      ]
     },
     "execution_count": 21,
     "metadata": {},
     "output_type": "execute_result"
    }
   ],
   "source": [
    "var candle_chart = Chart.Candlestick(df1.OrderBy(\"Date\").Rows.Select(row => new Tuple<string, double, double, double, double>(\n",
    "                 ((DateTime)row[0]).ToString(\"yyyy-MM-dd\"),\n",
    "                 double.Parse(row[1].ToString()),\n",
    "                 double.Parse(row[2].ToString()),\n",
    "                 double.Parse(row[3].ToString()),\n",
    "                 double.Parse(row[4].ToString())\n",
    "                )));\n",
    "candle_chart.WithLayout(new Layout.Layout{\n",
    "    title=\"OHLC\",\n",
    "    xaxis =new Graph.Xaxis{\n",
    "        title = \"Date\"\n",
    "        },\n",
    "    yaxis =new Graph.Yaxis{\n",
    "    title = \"Price (USD)\"\n",
    "        }           \n",
    "    });\n",
    "candle_chart"
   ]
  },
  {
   "cell_type": "code",
   "execution_count": null,
   "id": "70804cb6",
   "metadata": {},
   "outputs": [],
   "source": []
  }
 ],
 "metadata": {
  "kernelspec": {
   "display_name": ".NET (C#)",
   "language": "C#",
   "name": ".net-csharp"
  },
  "language_info": {
   "file_extension": ".cs",
   "mimetype": "text/x-csharp",
   "name": "C#",
   "pygments_lexer": "csharp",
   "version": "8.0"
  }
 },
 "nbformat": 4,
 "nbformat_minor": 5
}
